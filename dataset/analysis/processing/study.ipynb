{
 "cells": [
  {
   "cell_type": "code",
   "execution_count": null,
   "id": "b2824bd3",
   "metadata": {},
   "outputs": [],
   "source": [
    "import pandas as pd\n",
    "import matplotlib.pyplot as plt\n",
    "import numpy as np\n",
    "\n",
    "COLORS = {'clean': '#A0C878', 'discarded': '#CD5656'}"
   ]
  },
  {
   "cell_type": "code",
   "execution_count": null,
   "id": "11ee2ba8",
   "metadata": {},
   "outputs": [],
   "source": [
    "FULL = pd.read_csv('full-interested.csv')\n",
    "CLEAN = pd.read_csv('clean.csv')\n",
    "\n",
    "species_counts = pd.DataFrame({\n",
    "    'full': FULL['species'].value_counts(),\n",
    "    'clean': CLEAN['species'].value_counts()\n",
    "}).fillna(0).astype(int)\n",
    "species_counts['diff'] = species_counts['full'] - species_counts['clean']"
   ]
  },
  {
   "cell_type": "code",
   "execution_count": null,
   "id": "370cb38b",
   "metadata": {},
   "outputs": [],
   "source": [
    "def get_pie_chart(pie_data):\n",
    "    plt.figure(figsize=(8, 6))\n",
    "\n",
    "    wedges, _ = plt.pie(pie_data['Count'], startangle=90, autopct=None, textprops={'fontsize': 10}, colors=[COLORS['clean'], COLORS['discarded']])\n",
    "\n",
    "    labels = [f\"{row['Category']}\\n{round(row['Count']/1000,1)}k ({row['Count'] / pie_data['Count'].sum() * 100:.1f}%)\" for _, row in pie_data.iterrows()]\n",
    "    for i, wedge in enumerate(wedges):\n",
    "        x, y = wedge.center\n",
    "        angle = (wedge.theta2 + wedge.theta1) / 2\n",
    "        x = 0.5 * wedge.r * np.cos(np.radians(angle))\n",
    "        y = 0.5 * wedge.r * np.sin(np.radians(angle))\n",
    "        plt.text(x, y, labels[i], ha='center', va='center', fontsize=12, color='white')\n",
    "\n",
    "    plt.tight_layout()\n",
    "    plt.savefig('images/clean_diff_comparison.png', bbox_inches='tight', dpi=300)\n",
    "    plt.show()\n",
    "\n",
    "# Pie chart comparing full and diff count\n",
    "plot_df = pd.DataFrame({\n",
    "    'Category': ['Clean', 'Discarded'],\n",
    "    'Count': species_counts[['clean', 'diff']].sum()\n",
    "})\n",
    "get_pie_chart(plot_df)"
   ]
  },
  {
   "cell_type": "code",
   "execution_count": null,
   "id": "290bc669",
   "metadata": {},
   "outputs": [],
   "source": [
    "def get_stacked_bar_chart(data):\n",
    "    data.plot(kind='bar', stacked=True, color=[COLORS['clean'], COLORS['discarded']], figsize=(10, 6))\n",
    "    plt.ylabel('Number of images')\n",
    "    plt.xlabel('Species')\n",
    "    plt.yticks(\n",
    "        ticks=range(0, int(plot_df.sum(axis=1).max()) + 100000, 100000),\n",
    "        labels=[f\"{x//1000}k\" if x > 0 else \"0\" for x in range(0, int(plot_df.sum(axis=1).max()) + 100000, 100000)]\n",
    "    )\n",
    "    plt.xticks(rotation=45)\n",
    "    plt.legend(['Clean', 'Discarded'], bbox_to_anchor=(1.05, 1), loc='upper left')\n",
    "    plt.tight_layout()\n",
    "    plt.savefig('images/species_clean_diff_bar.png', bbox_inches='tight', dpi=300)\n",
    "    plt.show()\n",
    "\n",
    "# Plot the difference between FULL and CLEAN\n",
    "plot_df = species_counts[species_counts['diff'] != 0][['clean', 'diff']]\n",
    "get_stacked_bar_chart(plot_df)"
   ]
  }
 ],
 "metadata": {
  "kernelspec": {
   "display_name": ".venv",
   "language": "python",
   "name": "python3"
  },
  "language_info": {
   "codemirror_mode": {
    "name": "ipython",
    "version": 3
   },
   "file_extension": ".py",
   "mimetype": "text/x-python",
   "name": "python",
   "nbconvert_exporter": "python",
   "pygments_lexer": "ipython3",
   "version": "3.9.6"
  }
 },
 "nbformat": 4,
 "nbformat_minor": 5
}
