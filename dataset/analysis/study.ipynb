{
 "cells": [
  {
   "cell_type": "code",
   "execution_count": null,
   "id": "ef6a4657",
   "metadata": {},
   "outputs": [],
   "source": [
    "import pandas as pd\n",
    "import matplotlib.pyplot as plt\n",
    "import seaborn as sns\n",
    "import numpy as np\n",
    "\n",
    "INTERESTED = ['emp', 'mus', 'rara', 'ory', 'fsi', 'lyn', 'lut', 'sus', 'mel', 'vul', 'lep', 'equ', 'cer', 'bos', 'gen', 'her', 'dam', 'fel', 'can', 'ovar', 'mafo', 'capi', 'caae', 'ovor', 'caca']\n",
    "PARKNAME = {'snieves': \"Sierra de las Nieves\", 'donana': \"Doñana\"}\n",
    "COLORS = {'all': \"#8D32EB\", 'snieves': \"#888888\", 'donana': \"#C2A031\"}\n",
    "DATAFRAME = pd.read_csv('raw.csv')"
   ]
  },
  {
   "cell_type": "code",
   "execution_count": null,
   "id": "29d34959",
   "metadata": {},
   "outputs": [],
   "source": [
    "# Only use INTERESTED species\n",
    "DATAFRAME = DATAFRAME[DATAFRAME['species'].isin(INTERESTED)]"
   ]
  },
  {
   "cell_type": "code",
   "execution_count": null,
   "id": "70089e77",
   "metadata": {},
   "outputs": [],
   "source": [
    "# Pie chart for Species Images vs Empty Images\n",
    "def get_pie_chart(pie_data, title, colors):\n",
    "    plt.figure(figsize=(8, 6))\n",
    "\n",
    "    wedges, texts = plt.pie(pie_data['Count'], startangle=90, autopct=None, textprops={'fontsize': 10}, colors=colors)\n",
    "\n",
    "    labels = [f\"{row['Category']}\\n{round(row['Count']/1000,1)}k ({row['Count'] / pie_data['Count'].sum() * 100:.1f}%)\" for _, row in pie_data.iterrows()]\n",
    "    for i, wedge in enumerate(wedges):\n",
    "        x, y = wedge.center\n",
    "        angle = (wedge.theta2 + wedge.theta1) / 2\n",
    "        x = 0.5 * wedge.r * np.cos(np.radians(angle))\n",
    "        y = 0.5 * wedge.r * np.sin(np.radians(angle))\n",
    "        plt.text(x, y, labels[i], ha='center', va='center', fontsize=12, color='white')\n",
    "\n",
    "    plt.tight_layout()\n",
    "    plt.savefig(f'images/{title}_comparison.png', bbox_inches='tight', dpi=300)\n",
    "    plt.show()\n",
    "\n",
    "# Pie chart for Species Images vs Empty Images\n",
    "speciesvempty = pd.DataFrame({\n",
    "    'Category': ['Species', 'Empty'],\n",
    "    'Count': [DATAFRAME[DATAFRAME['species'] != 'emp'].shape[0], DATAFRAME[DATAFRAME['species'] == 'emp'].shape[0]]\n",
    "})\n",
    "colors = sns.light_palette(COLORS['all'], as_cmap=False, n_colors=4)[-2:][::-1]\n",
    "get_pie_chart(speciesvempty, 'empty_species', colors)\n",
    "\n",
    "# Pie chart for Park Images\n",
    "parks = DATAFRAME['park'].value_counts().index\n",
    "parks_data = pd.DataFrame({\n",
    "    'Category': [PARKNAME.get(park, park) for park in parks],\n",
    "    'Count': DATAFRAME['park'].value_counts().values\n",
    "})\n",
    "colors = [f\"{COLORS[park]}\" for park in parks]\n",
    "get_pie_chart(parks_data, 'parks', colors)"
   ]
  },
  {
   "cell_type": "code",
   "execution_count": null,
   "id": "ec31ddd4",
   "metadata": {},
   "outputs": [],
   "source": [
    "# Function to plot species distribution\n",
    "def plot_species_distribution(dataframe, title, color):\n",
    "    species_counts = dataframe['species'].value_counts().reindex(INTERESTED[1:], fill_value=0)\n",
    "\n",
    "    plt.figure(figsize=(12, 6))\n",
    "\n",
    "    colors = sns.light_palette(color, as_cmap=False, n_colors=4)[-2:]*12\n",
    "    sns.barplot(x=species_counts.index, y=species_counts.values, palette=colors, hue=species_counts.index, legend=False)\n",
    "\n",
    "    plt.yscale('log')\n",
    "    plt.ylim(1, species_counts.max() * 5)\n",
    "\n",
    "    plt.xlabel('Species')\n",
    "    plt.ylabel('Count (Log Scale)')\n",
    "    plt.xticks(rotation=45)\n",
    "\n",
    "    for i, count in enumerate(species_counts.values):\n",
    "        if count < 1: continue\n",
    "        plt.text(i, count + count * 0.1, f'{count / 1000:.1f}k' if count >= 1000 else str(count), \n",
    "                 ha='center', va='bottom', fontsize=10, rotation=0)\n",
    "\n",
    "    plt.tight_layout()\n",
    "    plt.savefig(f'images/{title}_distribution.png', bbox_inches='tight', dpi=300)\n",
    "    plt.show()\n",
    "    \n",
    "# Plot species distribution\n",
    "plot_species_distribution(DATAFRAME[DATAFRAME['species'] != 'emp'], \"species\", COLORS['all'])\n",
    "\n",
    "# Plot species distribution for each park\n",
    "for park in DATAFRAME['park'].unique():\n",
    "    plot_species_distribution(DATAFRAME[DATAFRAME['park'] == park], park, COLORS[park])"
   ]
  }
 ],
 "metadata": {
  "kernelspec": {
   "display_name": ".venv",
   "language": "python",
   "name": "python3"
  },
  "language_info": {
   "codemirror_mode": {
    "name": "ipython",
    "version": 3
   },
   "file_extension": ".py",
   "mimetype": "text/x-python",
   "name": "python",
   "nbconvert_exporter": "python",
   "pygments_lexer": "ipython3",
   "version": "3.9.6"
  }
 },
 "nbformat": 4,
 "nbformat_minor": 5
}
