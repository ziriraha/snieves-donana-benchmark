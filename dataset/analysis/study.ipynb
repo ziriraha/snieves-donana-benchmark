{
 "cells": [
  {
   "cell_type": "code",
   "execution_count": null,
   "id": "b2824bd3",
   "metadata": {},
   "outputs": [],
   "source": [
    "import pandas as pd\n",
    "import matplotlib.pyplot as plt\n",
    "import seaborn as sns\n",
    "import numpy as np\n",
    "\n",
    "CSV_PATH = '../csv'\n",
    "IMAGE_PATH = './images'"
   ]
  },
  {
   "cell_type": "code",
   "execution_count": null,
   "id": "8bf8edc3",
   "metadata": {},
   "outputs": [],
   "source": [
    "INTERESTED = ['bos', 'caae', 'caca', 'can', 'capi', 'cer', 'dam', 'emp', 'equ', 'fel', 'fsi', 'gen', 'her', 'lep', 'lut', 'lyn', 'mafo', 'mel', 'mus', 'ory', 'ovar', 'ovor', 'rara', 'sus', 'vul']\n",
    "PARKNAME = {'snieves': \"Sierra de las Nieves\", 'donana': \"Doñana\"}\n",
    "COLORS = {'clean': '#A0C878',\n",
    "          'discarded': '#CD5656',\n",
    "          'all': \"#8D32EB\",\n",
    "          'snieves': \"#888888\",\n",
    "          'donana': \"#C2A031\", }"
   ]
  },
  {
   "cell_type": "code",
   "execution_count": null,
   "id": "11ee2ba8",
   "metadata": {},
   "outputs": [],
   "source": [
    "RAW = pd.read_csv(f'{CSV_PATH}/raw.csv')\n",
    "RAW = RAW[RAW['species'].isin(INTERESTED)]\n",
    "FULL = pd.read_csv(f'{CSV_PATH}/full-interested.csv')\n",
    "CLEAN = pd.read_csv(f'{CSV_PATH}/clean.csv')\n",
    "SPLITS = {\n",
    "    \"train\": pd.read_csv(f'{CSV_PATH}/train.csv'),\n",
    "    \"val\": pd.read_csv(f'{CSV_PATH}/val.csv'),\n",
    "    \"test\": pd.read_csv(f'{CSV_PATH}/test.csv'),\n",
    "}\n",
    "\n",
    "species_counts = pd.DataFrame({\n",
    "    'full': FULL['species'].value_counts(),\n",
    "    'clean': CLEAN['species'].value_counts()\n",
    "}).fillna(0).astype(int)\n",
    "species_counts['diff'] = species_counts['full'] - species_counts['clean']"
   ]
  },
  {
   "cell_type": "markdown",
   "id": "36bcf099",
   "metadata": {},
   "source": [
    "# Functions"
   ]
  },
  {
   "cell_type": "code",
   "execution_count": null,
   "id": "70aacea8",
   "metadata": {},
   "outputs": [],
   "source": [
    "def get_pie_chart(pie_data, title, colors):\n",
    "    plt.figure(figsize=(8, 6))\n",
    "\n",
    "    wedges, texts = plt.pie(pie_data['Count'], startangle=90, autopct=None, textprops={'fontsize': 10}, colors=colors)\n",
    "\n",
    "    labels = [f\"{row['Category']}\\n{round(row['Count']/1000,1)}k ({row['Count'] / pie_data['Count'].sum() * 100:.1f}%)\" for _, row in pie_data.iterrows()]\n",
    "    for i, wedge in enumerate(wedges):\n",
    "        x, y = wedge.center\n",
    "        angle = (wedge.theta2 + wedge.theta1) / 2\n",
    "        x = 0.5 * wedge.r * np.cos(np.radians(angle))\n",
    "        y = 0.5 * wedge.r * np.sin(np.radians(angle))\n",
    "        plt.text(x, y, labels[i], ha='center', va='center', fontsize=12, color='white')\n",
    "\n",
    "    plt.tight_layout()\n",
    "    plt.savefig(f'{IMAGE_PATH}/{title}_comparison.png', bbox_inches='tight', dpi=300)\n",
    "    plt.show()"
   ]
  },
  {
   "cell_type": "code",
   "execution_count": null,
   "id": "b1a58500",
   "metadata": {},
   "outputs": [],
   "source": [
    "def plot_species_distribution(dataframe, title, color):\n",
    "    species = INTERESTED.copy()\n",
    "    species.remove('emp')\n",
    "    species_counts = dataframe['species'].value_counts().reindex(species, fill_value=0)\n",
    "\n",
    "    plt.figure(figsize=(12, 6))\n",
    "\n",
    "    colors = sns.light_palette(color, as_cmap=False, n_colors=4)[-2:]*12\n",
    "    sns.barplot(x=species_counts.index, y=species_counts.values, palette=colors, hue=species_counts.index, legend=False)\n",
    "\n",
    "    plt.yscale('log')\n",
    "    plt.ylim(1, species_counts.max() * 5)\n",
    "\n",
    "    plt.xlabel('Species')\n",
    "    plt.ylabel('Count (Log Scale)')\n",
    "    plt.xticks(rotation=45)\n",
    "\n",
    "    for i, count in enumerate(species_counts.values):\n",
    "        if count < 1: continue\n",
    "        plt.text(i, count + count * 0.1, f'{count / 1000:.1f}k' if count >= 1000 else str(count), \n",
    "                 ha='center', va='bottom', fontsize=10, rotation=0)\n",
    "\n",
    "    plt.tight_layout()\n",
    "    plt.savefig(f'{IMAGE_PATH}/{title}_distribution.png', bbox_inches='tight', dpi=300)\n",
    "    plt.show()"
   ]
  },
  {
   "cell_type": "code",
   "execution_count": null,
   "id": "35b2f54d",
   "metadata": {},
   "outputs": [],
   "source": [
    "def get_stacked_bar_chart(data):\n",
    "    data.plot(kind='bar', stacked=True, color=[COLORS['clean'], COLORS['discarded']], figsize=(10, 6))\n",
    "    plt.ylabel('Number of images')\n",
    "    plt.xlabel('Species')\n",
    "    plt.yticks(\n",
    "        ticks=range(0, int(data.sum(axis=1).max()) + 100000, 100000),\n",
    "        labels=[f\"{x//1000}k\" if x > 0 else \"0\" for x in range(0, int(data.sum(axis=1).max()) + 100000, 100000)]\n",
    "    )\n",
    "    plt.xticks(rotation=45)\n",
    "    plt.legend(['Clean', 'Discarded'], bbox_to_anchor=(1.05, 1), loc='upper left')\n",
    "    plt.tight_layout()\n",
    "    plt.savefig(f'{IMAGE_PATH}/species_clean_diff_bar.png', bbox_inches='tight', dpi=300)\n",
    "    plt.show()"
   ]
  },
  {
   "cell_type": "code",
   "execution_count": null,
   "id": "6794ca6b",
   "metadata": {},
   "outputs": [],
   "source": [
    "def plot_species_distribution_and_parks(dataframe, title):\n",
    "    species_park_counts = dataframe.groupby(['species', 'park']).size().unstack(fill_value=0).reindex(INTERESTED, fill_value=0)\n",
    "\n",
    "    plt.figure(figsize=(14, 7))\n",
    "\n",
    "    park_colors = [COLORS[park] for park in species_park_counts.columns]\n",
    "    species_park_counts.plot(\n",
    "        kind='bar',\n",
    "        stacked=True,\n",
    "        color=park_colors,\n",
    "        width=0.8,\n",
    "        ax=plt.gca()\n",
    "    )\n",
    "\n",
    "    plt.ylim(0, species_park_counts.sum(axis=1).max() * 1.2)\n",
    "\n",
    "    plt.xlabel('Species')\n",
    "    plt.ylabel('Count (Log Scale)')\n",
    "    plt.xticks(rotation=45)\n",
    "    for i, count in enumerate(species_park_counts.sum(axis=1).values):\n",
    "        if count < 1: continue\n",
    "        plt.text(i, count + 10, f'{count / 1000:.1f}k' if count >= 1000 else str(count), \n",
    "                 ha='center', va='bottom', fontsize=10, rotation=0)\n",
    "\n",
    "    plt.legend([PARKNAME.get(p, p) for p in species_park_counts.columns], title=\"Park\")\n",
    "\n",
    "    plt.tight_layout()\n",
    "    plt.savefig(f'{IMAGE_PATH}/species_distribution_{title}.png')\n",
    "    plt.show()"
   ]
  },
  {
   "cell_type": "markdown",
   "id": "b6874b73",
   "metadata": {},
   "source": [
    "# Raw"
   ]
  },
  {
   "cell_type": "code",
   "execution_count": null,
   "id": "01b4235d",
   "metadata": {},
   "outputs": [],
   "source": [
    "# Pie chart for Species Images vs Empty Images\n",
    "speciesvempty = pd.DataFrame({\n",
    "    'Category': ['Species', 'Empty'],\n",
    "    'Count': [RAW[RAW['species'] != 'emp'].shape[0], RAW[RAW['species'] == 'emp'].shape[0]]\n",
    "})\n",
    "colors = sns.light_palette(COLORS['all'], as_cmap=False, n_colors=4)[-2:][::-1]\n",
    "get_pie_chart(speciesvempty, 'empty_species', colors)\n",
    "\n",
    "# Pie chart for Park Images\n",
    "parks = RAW['park'].value_counts().index\n",
    "parks_data = pd.DataFrame({\n",
    "    'Category': [PARKNAME.get(park, park) for park in parks],\n",
    "    'Count': RAW['park'].value_counts().values\n",
    "})\n",
    "colors = [f\"{COLORS[park]}\" for park in parks]\n",
    "get_pie_chart(parks_data, 'parks', colors)"
   ]
  },
  {
   "cell_type": "code",
   "execution_count": null,
   "id": "62e84e88",
   "metadata": {},
   "outputs": [],
   "source": [
    "# Plot species distribution\n",
    "plot_species_distribution(RAW[RAW['species'] != 'emp'], \"species\", COLORS['all'])\n",
    "\n",
    "# Plot species distribution for each park\n",
    "for park in RAW['park'].unique():\n",
    "    plot_species_distribution(RAW[RAW['park'] == park], park, COLORS[park])"
   ]
  },
  {
   "cell_type": "markdown",
   "id": "02e587dc",
   "metadata": {},
   "source": [
    "# Processing"
   ]
  },
  {
   "cell_type": "code",
   "execution_count": null,
   "id": "370cb38b",
   "metadata": {},
   "outputs": [],
   "source": [
    "# Pie chart comparing full and diff count\n",
    "plot_df = pd.DataFrame({\n",
    "    'Category': ['Clean', 'Discarded'],\n",
    "    'Count': species_counts[['clean', 'diff']].sum()\n",
    "})\n",
    "get_pie_chart(plot_df, 'clean_diff', [COLORS['clean'], COLORS['discarded']])"
   ]
  },
  {
   "cell_type": "code",
   "execution_count": null,
   "id": "290bc669",
   "metadata": {},
   "outputs": [],
   "source": [
    "# Plot the difference between FULL and CLEAN\n",
    "plot_df = species_counts[species_counts['diff'] != 0][['clean', 'diff']]\n",
    "get_stacked_bar_chart(plot_df)"
   ]
  },
  {
   "cell_type": "markdown",
   "id": "2a567e67",
   "metadata": {},
   "source": [
    "# Splits"
   ]
  },
  {
   "cell_type": "code",
   "execution_count": null,
   "id": "7547091d",
   "metadata": {},
   "outputs": [],
   "source": [
    "# Plot species distribution for each dataset split\n",
    "for name, dataframe in SPLITS.items():\n",
    "    plot_species_distribution_and_parks(dataframe, name)"
   ]
  }
 ],
 "metadata": {
  "kernelspec": {
   "display_name": ".venv",
   "language": "python",
   "name": "python3"
  },
  "language_info": {
   "codemirror_mode": {
    "name": "ipython",
    "version": 3
   },
   "file_extension": ".py",
   "mimetype": "text/x-python",
   "name": "python",
   "nbconvert_exporter": "python",
   "pygments_lexer": "ipython3",
   "version": "3.9.6"
  }
 },
 "nbformat": 4,
 "nbformat_minor": 5
}
