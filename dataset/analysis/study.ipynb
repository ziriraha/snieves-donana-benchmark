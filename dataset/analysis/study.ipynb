{
 "cells": [
  {
   "cell_type": "code",
   "execution_count": null,
   "id": "ef6a4657",
   "metadata": {},
   "outputs": [],
   "source": [
    "import pandas as pd\n",
    "import matplotlib.pyplot as plt\n",
    "import seaborn as sns\n",
    "import numpy as np\n",
    "\n",
    "INTERESTED = ['emp', 'mus', 'rara', 'ory', 'fsi', 'lyn', 'lut', 'sus', 'mel', 'vul', 'lep', 'equ', 'cer', 'bos', 'gen', 'her', 'dam', 'fel', 'can', 'ovar', 'mafo', 'capi', 'caae', 'ovor', 'caca']\n",
    "PARKNAME = {'snieves': \"Sierra de las Nieves\", 'donana': \"Doñana\"}\n",
    "COLORS = {'all': \"#8D32EB\", 'snieves': \"#888888\", 'donana': \"#C2A031\"}\n",
    "DATAFRAME = pd.read_csv('raw.csv')"
   ]
  },
  {
   "cell_type": "code",
   "execution_count": null,
   "id": "29d34959",
   "metadata": {},
   "outputs": [],
   "source": [
    "# Filter the dataframe to keep only rows where the species is in the INTERESTED list\n",
    "DATAFRAME = DATAFRAME[DATAFRAME['species'].isin(INTERESTED)]"
   ]
  },
  {
   "cell_type": "code",
   "execution_count": null,
   "id": "70089e77",
   "metadata": {},
   "outputs": [],
   "source": [
    "# Define pie_data\n",
    "pie_data = pd.DataFrame({\n",
    "    'Category': ['Species', 'Empty'],\n",
    "    'Count': [DATAFRAME[DATAFRAME['species'] != 'emp'].shape[0], DATAFRAME[DATAFRAME['species'] == 'emp'].shape[0]]\n",
    "})\n",
    "\n",
    "# Prepare labels with percentage and count\n",
    "labels = [f\"{row['Category']}\\n{round(row['Count']/1000,1)}k ({row['Count'] / pie_data['Count'].sum() * 100:.1f}%)\" for _, row in pie_data.iterrows()]\n",
    "\n",
    "# Plot a pie chart with labels inside\n",
    "plt.figure(figsize=(8, 6))\n",
    "cmap = sns.light_palette(COLORS['all'], as_cmap=False, n_colors=4)[-2:][::-1]\n",
    "wedges, texts = plt.pie(pie_data['Count'], startangle=90, autopct=None, textprops={'fontsize': 10}, colors=cmap)\n",
    "\n",
    "# Add labels inside the pie chart\n",
    "for i, wedge in enumerate(wedges):\n",
    "    x, y = wedge.center\n",
    "    angle = (wedge.theta2 + wedge.theta1) / 2\n",
    "    x = 0.5 * wedge.r * np.cos(np.radians(angle))\n",
    "    y = 0.5 * wedge.r * np.sin(np.radians(angle))\n",
    "    plt.text(x, y, labels[i], ha='center', va='center', fontsize=12, color='white')\n",
    "\n",
    "plt.title('Comparison of Empty Images vs Species Images')\n",
    "plt.tight_layout()\n",
    "plt.show()\n"
   ]
  },
  {
   "cell_type": "code",
   "execution_count": null,
   "id": "ec31ddd4",
   "metadata": {},
   "outputs": [],
   "source": [
    "def plot_species_distribution(dataframe, title, color):\n",
    "    species_counts = dataframe['species'].value_counts()\n",
    "    species_counts = species_counts.reindex(INTERESTED[1:], fill_value=0)\n",
    "\n",
    "    plt.figure(figsize=(12, 6))\n",
    "    cmap = sns.light_palette(color, as_cmap=False, n_colors=4)[-2:]\n",
    "    sns.barplot(x=species_counts.index, y=species_counts.values, palette=cmap)\n",
    "    plt.yscale('log')\n",
    "    plt.title(title)\n",
    "    plt.xlabel('Species')\n",
    "    plt.ylabel('Count (Log Scale)')\n",
    "    plt.xticks(rotation=45)\n",
    "\n",
    "    # Adjust the y-axis limit to make space for the numbers\n",
    "    plt.ylim(1, species_counts.max() * 5)\n",
    "\n",
    "    # Add the number of images at the top of each bar\n",
    "    for i, count in enumerate(species_counts.values):\n",
    "        if count < 1: continue\n",
    "        plt.text(i, count + count * 0.1, f'{count / 1000:.1f}k' if count >= 1000 else str(count), \n",
    "                 ha='center', va='bottom', fontsize=10, rotation=0)\n",
    "\n",
    "    plt.tight_layout()\n",
    "    plt.show()\n",
    "    \n",
    "plot_species_distribution(DATAFRAME[DATAFRAME['species'] != 'emp'], \"Species Distribution (Excluding 'emp')\", COLORS['all'])"
   ]
  },
  {
   "cell_type": "code",
   "execution_count": null,
   "id": "a1167715",
   "metadata": {},
   "outputs": [],
   "source": [
    "# Define pie_data for parks\n",
    "pie_data = pd.DataFrame({\n",
    "    'Park': DATAFRAME['park'].value_counts().index,\n",
    "    'Count': DATAFRAME['park'].value_counts().values\n",
    "})\n",
    "\n",
    "# Prepare labels with percentage and count\n",
    "labels = [f\"{PARKNAME[row['Park']]}\\n{round(row['Count']/1000,1)}k ({row['Count'] / pie_data['Count'].sum() * 100:.1f}%)\" for _, row in pie_data.iterrows()]\n",
    "\n",
    "# Map colors for each park\n",
    "colors = [f\"{COLORS[park]}\" for park in pie_data['Park']]\n",
    "\n",
    "# Plot a pie chart with labels inside\n",
    "plt.figure(figsize=(8, 6))\n",
    "wedges, texts = plt.pie(pie_data['Count'], startangle=90, autopct=None, textprops={'fontsize': 10}, colors=colors)\n",
    "\n",
    "# Add labels inside the pie chart\n",
    "for i, wedge in enumerate(wedges):\n",
    "    x, y = wedge.center\n",
    "    angle = (wedge.theta2 + wedge.theta1) / 2\n",
    "    x = 0.5 * wedge.r * np.cos(np.radians(angle))\n",
    "    y = 0.5 * wedge.r * np.sin(np.radians(angle))\n",
    "    plt.text(x, y, labels[i], ha='center', va='center', fontsize=12, color='white')\n",
    "\n",
    "plt.title('Distribution of Parks')\n",
    "plt.tight_layout()\n",
    "plt.show()"
   ]
  },
  {
   "cell_type": "code",
   "execution_count": null,
   "id": "dce39f04",
   "metadata": {},
   "outputs": [],
   "source": [
    "# List of parks\n",
    "parks = DATAFRAME['park'].unique()\n",
    "# Plot species distribution for each park\n",
    "for park in parks:\n",
    "    plot_species_distribution(DATAFRAME[DATAFRAME['park'] == park], PARKNAME[park], COLORS[park])"
   ]
  }
 ],
 "metadata": {
  "kernelspec": {
   "display_name": ".venv",
   "language": "python",
   "name": "python3"
  },
  "language_info": {
   "codemirror_mode": {
    "name": "ipython",
    "version": 3
   },
   "file_extension": ".py",
   "mimetype": "text/x-python",
   "name": "python",
   "nbconvert_exporter": "python",
   "pygments_lexer": "ipython3",
   "version": "3.9.6"
  }
 },
 "nbformat": 4,
 "nbformat_minor": 5
}
