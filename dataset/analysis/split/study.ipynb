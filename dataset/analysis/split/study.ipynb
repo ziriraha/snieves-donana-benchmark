{
 "cells": [
  {
   "cell_type": "code",
   "execution_count": null,
   "id": "df09ab1d",
   "metadata": {},
   "outputs": [],
   "source": [
    "import pandas as pd\n",
    "import matplotlib.pyplot as plt\n",
    "\n",
    "PARKNAME = {'snieves': \"Sierra de las Nieves\", 'donana': \"Doñana\"}\n",
    "INTERESTED = ['emp', 'mus', 'rara', 'ory', 'fsi', 'lyn', 'lut', 'sus', 'mel', 'vul', 'lep', 'equ', 'cer', 'bos', 'gen', 'her', 'dam', 'fel', 'can', 'ovar', 'mafo', 'capi', 'caae', 'ovor', 'caca']\n",
    "COLORS = {'all': \"#8D32EB\", 'snieves': \"#888888\", 'donana': \"#C2A031\"}"
   ]
  },
  {
   "cell_type": "code",
   "execution_count": null,
   "id": "c5d105f5",
   "metadata": {},
   "outputs": [],
   "source": [
    "splits = {\n",
    "    \"train\": pd.read_csv(\"train.csv\"),\n",
    "    \"val\": pd.read_csv(\"val.csv\"),\n",
    "    \"test\": pd.read_csv(\"test.csv\"),\n",
    "}"
   ]
  },
  {
   "cell_type": "code",
   "execution_count": null,
   "id": "6a0bba72",
   "metadata": {},
   "outputs": [],
   "source": [
    "# Function to plot species distribution\n",
    "def plot_species_distribution_and_parks(dataframe, title):\n",
    "    species_park_counts = dataframe.groupby(['species', 'park']).size().unstack(fill_value=0).reindex(INTERESTED, fill_value=0)\n",
    "\n",
    "    plt.figure(figsize=(14, 7))\n",
    "\n",
    "    park_colors = [COLORS[park] for park in species_park_counts.columns]\n",
    "    species_park_counts.plot(\n",
    "        kind='bar',\n",
    "        stacked=True,\n",
    "        color=park_colors,\n",
    "        width=0.8,\n",
    "        ax=plt.gca()\n",
    "    )\n",
    "\n",
    "    plt.ylim(0, species_park_counts.sum(axis=1).max() * 1.2)\n",
    "\n",
    "    plt.xlabel('Species')\n",
    "    plt.ylabel('Count (Log Scale)')\n",
    "    plt.xticks(rotation=45)\n",
    "    for i, count in enumerate(species_park_counts.sum(axis=1).values):\n",
    "        if count < 1: continue\n",
    "        plt.text(i, count + 10, f'{count / 1000:.1f}k' if count >= 1000 else str(count), \n",
    "                 ha='center', va='bottom', fontsize=10, rotation=0)\n",
    "\n",
    "    plt.legend([PARKNAME.get(p, p) for p in species_park_counts.columns], title=\"Park\")\n",
    "\n",
    "    plt.tight_layout()\n",
    "    plt.savefig(f\"images/species_distribution_{title}.png\")\n",
    "    plt.show()\n",
    "    \n",
    "# Plot species distribution for each dataset split\n",
    "for name, dataframe in splits.items():\n",
    "    plot_species_distribution_and_parks(dataframe, name)"
   ]
  }
 ],
 "metadata": {
  "kernelspec": {
   "display_name": ".venv",
   "language": "python",
   "name": "python3"
  },
  "language_info": {
   "codemirror_mode": {
    "name": "ipython",
    "version": 3
   },
   "file_extension": ".py",
   "mimetype": "text/x-python",
   "name": "python",
   "nbconvert_exporter": "python",
   "pygments_lexer": "ipython3",
   "version": "3.9.6"
  }
 },
 "nbformat": 4,
 "nbformat_minor": 5
}
